{
 "cells": [
  {
   "cell_type": "markdown",
   "metadata": {},
   "source": [
    "# Google Play and App Store Data Analysis\n",
    "    \n",
    "This project was designed to analyze data from android's google play and apple's app store to potentially recommend a genre for an app to developers that could be profitable for both stores. We are analyzing free english apps to better understand which categories are most popular. "
   ]
  },
  {
   "cell_type": "code",
   "execution_count": 86,
   "metadata": {},
   "outputs": [],
   "source": [
    "from csv import reader\n",
    "\n",
    "opened_file = open('googleplaystore2018.csv', encoding='utf8')\n",
    "read_file = reader(opened_file)\n",
    "android = list(read_file)\n",
    "android_header = android[0]\n",
    "android = android[1:]\n",
    "\n",
    "opened_file = open('applestore2017.csv', encoding='utf8')\n",
    "read_file = reader(opened_file)\n",
    "ios = list(read_file)\n",
    "ios_header = ios[0]\n",
    "ios = ios[1:]"
   ]
  },
  {
   "cell_type": "markdown",
   "metadata": {},
   "source": [
    "Designing code to filter and visualize application data within the Google Play Store and App Store."
   ]
  },
  {
   "cell_type": "code",
   "execution_count": 88,
   "metadata": {
    "scrolled": false
   },
   "outputs": [
    {
     "name": "stdout",
     "output_type": "stream",
     "text": [
      "['App', 'Category', 'Rating', 'Reviews', 'Size', 'Installs', 'Type', 'Price', 'Content Rating', 'Genres', 'Last Updated', 'Current Ver', 'Android Ver']\n",
      "\n",
      "\n",
      "['Photo Editor & Candy Camera & Grid & ScrapBook', 'ART_AND_DESIGN', '4.1', '159', '19M', '10,000+', 'Free', '0', 'Everyone', 'Art & Design', '7-Jan-18', '1.0.0', '4.0.3 and up']\n",
      "\n",
      "\n",
      "['Coloring book moana', 'ART_AND_DESIGN', '3.9', '967', '14M', '500,000+', 'Free', '0', 'Everyone', 'Art & Design;Pretend Play', '15-Jan-18', '2.0.0', '4.0.3 and up']\n",
      "\n",
      "\n",
      "['U Launcher Lite – FREE Live Cool Themes, Hide Apps', 'ART_AND_DESIGN', '4.7', '87510', '8.7M', '5,000,000+', 'Free', '0', 'Everyone', 'Art & Design', '1-Aug-18', '1.2.4', '4.0.3 and up']\n",
      "\n",
      "\n",
      "Number of rows: 10841\n",
      "Number of columns: 13\n",
      "\n",
      "\n",
      "['id', 'track_name', 'size_bytes', 'currency', 'price', 'rating_count_tot', 'rating_count_ver', 'user_rating', 'user_rating_ver', 'ver', 'cont_rating', 'prime_genre', 'sup_devices.num', 'ipadSc_urls.num', 'lang.num', 'vpp_lic']\n",
      "\n",
      "\n",
      "['284882215', 'Facebook', '389879808', 'USD', '0', '2974676', '212', '3.5', '3.5', '95', '4+', 'Social Networking', '37', '1', '29', '1']\n",
      "\n",
      "\n",
      "['389801252', 'Instagram', '113954816', 'USD', '0', '2161558', '1289', '4.5', '4', '10.23', '12+', 'Photo & Video', '37', '0', '29', '1']\n",
      "\n",
      "\n",
      "['529479190', 'Clash of Clans', '116476928', 'USD', '0', '2130805', '579', '4.5', '4.5', '9.24.12', '9+', 'Games', '38', '5', '18', '1']\n",
      "\n",
      "\n",
      "Number of rows: 7197\n",
      "Number of columns: 16\n"
     ]
    }
   ],
   "source": [
    "def explore_data(dataset, start, end, rows_and_columns=False):\n",
    "    dataset_slice = dataset[start:end]\n",
    "    for row in dataset_slice:\n",
    "        print(row)\n",
    "        print('\\n') \n",
    "\n",
    "    if rows_and_columns:\n",
    "        print('Number of rows:', len(dataset))\n",
    "        print('Number of columns:', len(dataset[0]))\n",
    "        \n",
    "##Exploring data sets       \n",
    "print(android_header)\n",
    "print('\\n')\n",
    "explore_data(android, 0, 3, True)\n",
    "print('\\n')\n",
    "print(ios_header)\n",
    "print('\\n')\n",
    "explore_data(ios, 0, 3, True)"
   ]
  },
  {
   "cell_type": "markdown",
   "metadata": {},
   "source": [
    "# Cleaning up the data\n",
    "## Deleting Wrong and Inaccurate Data\n",
    "A particular row was not aligned with the dataset within the googleplay csv file and needs to be deleted to not impact results."
   ]
  },
  {
   "cell_type": "code",
   "execution_count": 3,
   "metadata": {},
   "outputs": [
    {
     "name": "stdout",
     "output_type": "stream",
     "text": [
      "['Life Made WI-Fi Touchscreen Photo Frame', '1.9', '19', '3.0M', '1,000+', 'Free', '0', 'Everyone', '', '11-Feb-18', '1.0.19', '4.0 and up', '']\n",
      "\n",
      "\n",
      "['App', 'Category', 'Rating', 'Reviews', 'Size', 'Installs', 'Type', 'Price', 'Content Rating', 'Genres', 'Last Updated', 'Current Ver', 'Android Ver']\n",
      "\n",
      "\n",
      "['Photo Editor & Candy Camera & Grid & ScrapBook', 'ART_AND_DESIGN', '4.1', '159', '19M', '10,000+', 'Free', '0', 'Everyone', 'Art & Design', '7-Jan-18', '1.0.0', '4.0.3 and up']\n"
     ]
    }
   ],
   "source": [
    "print(android[10472])  # incorrect row\n",
    "print('\\n')\n",
    "print(android_header)  # header\n",
    "print('\\n')\n",
    "print(android[0])      # correct row"
   ]
  },
  {
   "cell_type": "markdown",
   "metadata": {},
   "source": [
    "Here we deleted row 10472 because the row was inaccurate in comparison to remaining rows and had to be deleted to not impact results."
   ]
  },
  {
   "cell_type": "code",
   "execution_count": 4,
   "metadata": {
    "scrolled": false
   },
   "outputs": [
    {
     "name": "stdout",
     "output_type": "stream",
     "text": [
      "10841\n",
      "10840\n"
     ]
    }
   ],
   "source": [
    "print(len(android))\n",
    "del android[10472]  # don't run this more than once\n",
    "print(len(android))"
   ]
  },
  {
   "cell_type": "markdown",
   "metadata": {},
   "source": [
    "Some applications may have multiple entries due to popularity. We selected Twitter as it is a multifaceted platform."
   ]
  },
  {
   "cell_type": "code",
   "execution_count": 77,
   "metadata": {},
   "outputs": [
    {
     "name": "stdout",
     "output_type": "stream",
     "text": [
      "['Twitter', 'NEWS_AND_MAGAZINES', '4.3', '11667403', 'Varies with device', '500,000,000+', 'Free', '0', 'Mature 17+', 'News & Magazines', '6-Aug-18', 'Varies with device', 'Varies with device']\n",
      "['Twitter', 'NEWS_AND_MAGAZINES', '4.3', '11667403', 'Varies with device', '500,000,000+', 'Free', '0', 'Mature 17+', 'News & Magazines', '6-Aug-18', 'Varies with device', 'Varies with device']\n",
      "['Twitter', 'NEWS_AND_MAGAZINES', '4.3', '11657972', 'Varies with device', '500,000,000+', 'Free', '0', 'Mature 17+', 'News & Magazines', '30-Jul-18', 'Varies with device', 'Varies with device']\n"
     ]
    }
   ],
   "source": [
    "for app in android:\n",
    "    name = app[0]\n",
    "    if name =='Twitter':\n",
    "        print(app)"
   ]
  },
  {
   "cell_type": "markdown",
   "metadata": {},
   "source": [
    "## Removing duplicate entries\n",
    "The criterion we used for removing the duplicate entries from the dataset was after we reviewed the output, which is being varied by review factor. We've seen that the difference between these duplicate values are the number of reviews. This means that the more reviews there are, the more recent the data is. Now we are taking the most recent data and removing the rest of each of the duplicate apps. "
   ]
  },
  {
   "cell_type": "code",
   "execution_count": 68,
   "metadata": {
    "scrolled": true
   },
   "outputs": [
    {
     "name": "stdout",
     "output_type": "stream",
     "text": [
      "Number of duplicate apps: 1181\n",
      "Examples of duplicate apps: ['Quick PDF Scanner + OCR FREE', 'Box', 'Google My Business', 'ZOOM Cloud Meetings', 'join.me - Simple Meetings', 'Box', 'Zenefits', 'Google Ads', 'Google My Business', 'Slack', 'FreshBooks Classic', 'Insightly CRM', 'QuickBooks Accounting: Invoicing & Expenses', 'HipChat - Chat Built for Teams', 'Xero Accounting Software']\n",
      "\n",
      "\n",
      "Number of unique android apps 9659\n",
      "Examples of unique android apps: ['Photo Editor & Candy Camera & Grid & ScrapBook', 'Coloring book moana', 'U Launcher Lite – FREE Live Cool Themes, Hide Apps', 'Sketch - Draw & Paint', 'Pixel Draw - Number Art Coloring Book', 'Paper flowers instructions', 'Smoke Effect Photo Maker - Smoke Editor', 'Infinite Painter', 'Garden Coloring Book', 'Kids Paint Free - Drawing Fun', 'Text on Photo - Fonteee', 'Name Art Photo Editor - Focus n Filters', 'Tattoo Name On My Photo Editor', 'Mandala Coloring Book', '3D Color Pixel by Number - Sandbox Art Coloring']\n"
     ]
    }
   ],
   "source": [
    "duplicate_apps = []\n",
    "unique_apps = []\n",
    "\n",
    "for app in android:\n",
    "    name = app[0]\n",
    "    if name in unique_apps:\n",
    "        duplicate_apps.append(name)\n",
    "    else:\n",
    "        unique_apps.append(name)\n",
    "    \n",
    "print('Number of duplicate apps:', len(duplicate_apps))\n",
    "print('Examples of duplicate apps:', duplicate_apps[:15])\n",
    "print('\\n')\n",
    "print('Number of unique android apps',len(unique_apps))\n",
    "print('Examples of unique android apps:', unique_apps[:15])"
   ]
  },
  {
   "cell_type": "markdown",
   "metadata": {},
   "source": [
    "Here we'll create the dictionary reviews_max consisting of unique apps names and their respective maximum reviews."
   ]
  },
  {
   "cell_type": "code",
   "execution_count": 69,
   "metadata": {},
   "outputs": [
    {
     "name": "stdout",
     "output_type": "stream",
     "text": [
      "Expected length: 9659\n",
      "\n",
      "\n",
      "Actual length: 9659\n"
     ]
    }
   ],
   "source": [
    "reviews_max = {}\n",
    "\n",
    "for app in android:\n",
    "    name = app[0]\n",
    "    n_reviews = float(app[3])\n",
    "    \n",
    "    if name in reviews_max and reviews_max[name] < n_reviews:\n",
    "        reviews_max[name] = n_reviews\n",
    "        \n",
    "    elif name not in reviews_max:\n",
    "        reviews_max[name] = n_reviews\n",
    "        \n",
    "print('Expected length:', len(android) - 1181)\n",
    "print('\\n')\n",
    "print('Actual length:', len(reviews_max))"
   ]
  },
  {
   "cell_type": "markdown",
   "metadata": {},
   "source": [
    "After ensuring our reviews_max dictionary is functioning properly, we now use it to subsequently develop a new dataset android_clean that consists solely of unique apps with their highest review."
   ]
  },
  {
   "cell_type": "code",
   "execution_count": 75,
   "metadata": {},
   "outputs": [
    {
     "name": "stdout",
     "output_type": "stream",
     "text": [
      "['Photo Editor & Candy Camera & Grid & ScrapBook', 'ART_AND_DESIGN', '4.1', '159', '19M', '10,000+', 'Free', '0', 'Everyone', 'Art & Design', '7-Jan-18', '1.0.0', '4.0.3 and up']\n",
      "\n",
      "\n",
      "['U Launcher Lite – FREE Live Cool Themes, Hide Apps', 'ART_AND_DESIGN', '4.7', '87510', '8.7M', '5,000,000+', 'Free', '0', 'Everyone', 'Art & Design', '1-Aug-18', '1.2.4', '4.0.3 and up']\n",
      "\n",
      "\n",
      "['Sketch - Draw & Paint', 'ART_AND_DESIGN', '4.5', '215644', '25M', '50,000,000+', 'Free', '0', 'Teen', 'Art & Design', '8-Jun-18', 'Varies with device', '4.2 and up']\n",
      "\n",
      "\n",
      "Number of rows: 9659\n",
      "Number of columns: 13\n"
     ]
    }
   ],
   "source": [
    "android_clean = []\n",
    "already_added = []\n",
    "\n",
    "for app in android:\n",
    "    name = app[0]\n",
    "    n_reviews = float(app[3])\n",
    "    \n",
    "    if (n_reviews == reviews_max[name]) and (name not in already_added):\n",
    "        android_clean.append(app)\n",
    "        already_added.append(name) \n",
    "\n",
    "explore_data(android_clean, 0, 3, True)"
   ]
  },
  {
   "cell_type": "markdown",
   "metadata": {},
   "source": [
    "We've used the reviews_max dictionary to formulate a new list without duplicates."
   ]
  },
  {
   "cell_type": "code",
   "execution_count": 13,
   "metadata": {
    "scrolled": false
   },
   "outputs": [
    {
     "name": "stdout",
     "output_type": "stream",
     "text": [
      "爱奇艺PPS -《欢乐颂2》电视剧热播\n",
      "【脱出ゲーム】絶対に最後までプレイしないで 〜謎解き＆ブロックパズル〜\n",
      "\n",
      "\n",
      "中国語 AQリスニング\n",
      "لعبة تقدر تربح DZ\n"
     ]
    }
   ],
   "source": [
    "print(ios[813][1])\n",
    "print(ios[6731][1])\n",
    "print('\\n')\n",
    "print(android_clean[4412][0])\n",
    "print(android_clean[7940][0])"
   ]
  },
  {
   "cell_type": "markdown",
   "metadata": {},
   "source": [
    "## Removing non-English Apps\n",
    "Here we have detected non English app names and will subsequently formulate functions to filter out such apps as our prospective audience is English speaking. We use ord() for characters that may not be recognized within the English language such as emojis, as they have corresponding numerical values which could validate them rather than exclude them for our data."
   ]
  },
  {
   "cell_type": "code",
   "execution_count": 65,
   "metadata": {},
   "outputs": [
    {
     "name": "stdout",
     "output_type": "stream",
     "text": [
      "True\n",
      "False\n",
      "False\n",
      "False\n",
      "8482\n",
      "128540\n"
     ]
    }
   ],
   "source": [
    "def is_english(string):\n",
    "    for character in string:\n",
    "        if ord(character) > 127:\n",
    "            return False\n",
    "    return True\n",
    "\n",
    "print(is_english('Twitter'))\n",
    "print(is_english('爱奇艺PPS -《欢乐颂2》电视剧热播'))\n",
    "print(is_english('Docs To Go™ Free Office Suite'))\n",
    "print(is_english('Instachat 😜'))\n",
    "print(ord('™'))\n",
    "print(ord('😜'))"
   ]
  },
  {
   "cell_type": "markdown",
   "metadata": {},
   "source": [
    "Notice how two English apps have been deemed False due to special characters not falling within the 0-127 ASCII table. To better sort through these English apps as to not exclude them we will be adding conditional statements with values that collectively should assure they populate."
   ]
  },
  {
   "cell_type": "code",
   "execution_count": 66,
   "metadata": {},
   "outputs": [
    {
     "name": "stdout",
     "output_type": "stream",
     "text": [
      "True\n",
      "False\n",
      "True\n",
      "True\n",
      "8482\n",
      "128540\n"
     ]
    }
   ],
   "source": [
    "def is_english(string):\n",
    "    non_ascii = 0\n",
    "    \n",
    "    for character in string:\n",
    "        if ord(character) > 127:\n",
    "            non_ascii += 1\n",
    "    \n",
    "    if non_ascii > 3:\n",
    "        return False\n",
    "    else:\n",
    "        return True\n",
    "\n",
    "print(is_english('Twitter'))\n",
    "print(is_english('爱奇艺PPS -《欢乐颂2》电视剧热播'))\n",
    "print(is_english('Docs To Go™ Free Office Suite'))\n",
    "print(is_english('Instachat 😜'))\n",
    "print(ord('™'))\n",
    "print(ord('😜'))"
   ]
  },
  {
   "cell_type": "markdown",
   "metadata": {},
   "source": [
    "Following the addition of conditional statements, Instachat and Docs To Go are now qualifying is True English apps."
   ]
  },
  {
   "cell_type": "code",
   "execution_count": 67,
   "metadata": {},
   "outputs": [
    {
     "name": "stdout",
     "output_type": "stream",
     "text": [
      "['Photo Editor & Candy Camera & Grid & ScrapBook', 'ART_AND_DESIGN', '4.1', '159', '19M', '10,000+', 'Free', '0', 'Everyone', 'Art & Design', '7-Jan-18', '1.0.0', '4.0.3 and up']\n",
      "\n",
      "\n",
      "['U Launcher Lite – FREE Live Cool Themes, Hide Apps', 'ART_AND_DESIGN', '4.7', '87510', '8.7M', '5,000,000+', 'Free', '0', 'Everyone', 'Art & Design', '1-Aug-18', '1.2.4', '4.0.3 and up']\n",
      "\n",
      "\n",
      "['Sketch - Draw & Paint', 'ART_AND_DESIGN', '4.5', '215644', '25M', '50,000,000+', 'Free', '0', 'Teen', 'Art & Design', '8-Jun-18', 'Varies with device', '4.2 and up']\n",
      "\n",
      "\n",
      "Number of rows: 9614\n",
      "Number of columns: 13\n",
      "\n",
      "\n",
      "['284882215', 'Facebook', '389879808', 'USD', '0', '2974676', '212', '3.5', '3.5', '95', '4+', 'Social Networking', '37', '1', '29', '1']\n",
      "\n",
      "\n",
      "['389801252', 'Instagram', '113954816', 'USD', '0', '2161558', '1289', '4.5', '4', '10.23', '12+', 'Photo & Video', '37', '0', '29', '1']\n",
      "\n",
      "\n",
      "['529479190', 'Clash of Clans', '116476928', 'USD', '0', '2130805', '579', '4.5', '4.5', '9.24.12', '9+', 'Games', '38', '5', '18', '1']\n",
      "\n",
      "\n",
      "Number of rows: 6183\n",
      "Number of columns: 16\n"
     ]
    }
   ],
   "source": [
    "android_english = []\n",
    "ios_english = []\n",
    "\n",
    "for app in android_clean:\n",
    "    name = app[0]\n",
    "    if is_english(name):\n",
    "        android_english.append(app)\n",
    "        \n",
    "for app in ios:\n",
    "    name = app[1]\n",
    "    if is_english(name):\n",
    "        ios_english.append(app)\n",
    "        \n",
    "explore_data(android_english, 0, 3, True)\n",
    "print('\\n')\n",
    "explore_data(ios_english, 0, 3, True)"
   ]
  },
  {
   "cell_type": "markdown",
   "metadata": {},
   "source": [
    "After exploring and filtering through Google Play and App Store datasets we have a total of 9,614 non-English apps in Google Play and 6,184 non-English apps in the App Store."
   ]
  },
  {
   "cell_type": "markdown",
   "metadata": {},
   "source": [
    "## Isolating Free Apps\n",
    "Currently our data is reflecting a combination of free and paid for applications within Google Play and the App Store. Our goal is to analyze free applications exclusively. To do so, we are compiling conditional statements to filter out all applications that are not free or price valued at $0 to users."
   ]
  },
  {
   "cell_type": "code",
   "execution_count": 45,
   "metadata": {},
   "outputs": [
    {
     "name": "stdout",
     "output_type": "stream",
     "text": [
      "8864\n",
      "3222\n"
     ]
    }
   ],
   "source": [
    "android_final = []\n",
    "ios_final = []\n",
    "\n",
    "for app in android_english:\n",
    "    name = app[0]\n",
    "    price = app[7]\n",
    "    if price == '0':\n",
    "        android_final.append(app)\n",
    "        \n",
    "for app in ios_english:\n",
    "    name = app[0]\n",
    "    price = app[4]\n",
    "    if price == '0':\n",
    "        ios_final.append(app)\n",
    "        \n",
    "print(len(android_final))\n",
    "print(len(ios_final))"
   ]
  },
  {
   "cell_type": "markdown",
   "metadata": {},
   "source": [
    "Now we have 8,864 applications remaining in the Google Play Store that we know to be free. Meanwhile, the App Store had a reduction of just under 50% with only 3,222 free applications in total."
   ]
  },
  {
   "cell_type": "markdown",
   "metadata": {},
   "source": [
    "## Analyzing and Reviewing Data\n",
    "Our aim is to determine the kinds of free apps that are likely to attract more users because our revenue is highly influenced by the number of users. We'll be assessing a variety of categories to build a beta Android version of an app. If the app tests well with users in Google Play, proving it can be successful and therefore profitable, we can assume it will in the App Store as well. \n",
    "\n",
    "We'll begin this analysis by testing the most popular genres in both markets. For this, we'll build a frequency table for the prime_genre column of the App Store dataset and the Genres and Category columns of the Googly Play dataset."
   ]
  },
  {
   "cell_type": "code",
   "execution_count": 46,
   "metadata": {},
   "outputs": [],
   "source": [
    "def freq_table(dataset, index):\n",
    "    table = {}\n",
    "    total = 0\n",
    "    \n",
    "    for row in dataset:\n",
    "        total += 1\n",
    "        value = row[index]\n",
    "        if value in table:\n",
    "            table[value] += 1\n",
    "        else:\n",
    "            table[value] = 1\n",
    "    \n",
    "    table_percentages = {}\n",
    "    for key in table:\n",
    "        percentage = (table[key] / total) * 100\n",
    "        table_percentages[key] = percentage \n",
    "    \n",
    "    return table_percentages\n",
    "\n",
    "\n",
    "def display_table(dataset, index):\n",
    "    table = freq_table(dataset, index)\n",
    "    table_display = []\n",
    "    for key in table:\n",
    "        key_val_as_tuple = (table[key], key)\n",
    "        table_display.append(key_val_as_tuple)\n",
    "        \n",
    "    table_sorted = sorted(table_display, reverse = True)\n",
    "    for entry in table_sorted:\n",
    "        print(entry[1], ':', entry[0])"
   ]
  },
  {
   "cell_type": "code",
   "execution_count": 50,
   "metadata": {
    "scrolled": true
   },
   "outputs": [
    {
     "name": "stdout",
     "output_type": "stream",
     "text": [
      "Games : 58.16263190564867\n",
      "Entertainment : 7.883302296710118\n",
      "Photo & Video : 4.9658597144630665\n",
      "Education : 3.662321539416512\n",
      "Social Networking : 3.2898820608317814\n",
      "Shopping : 2.60707635009311\n",
      "Utilities : 2.5139664804469275\n",
      "Sports : 2.1415270018621975\n",
      "Music : 2.0484171322160147\n",
      "Health & Fitness : 2.0173805090006205\n",
      "Productivity : 1.7380509000620732\n",
      "Lifestyle : 1.5828677839851024\n",
      "News : 1.3345747982619491\n",
      "Travel : 1.2414649286157666\n",
      "Finance : 1.1173184357541899\n",
      "Weather : 0.8690254500310366\n",
      "Food & Drink : 0.8069522036002483\n",
      "Reference : 0.5586592178770949\n",
      "Business : 0.5276225946617008\n",
      "Book : 0.4345127250155183\n",
      "Navigation : 0.186219739292365\n",
      "Medical : 0.186219739292365\n",
      "Catalogs : 0.12414649286157665\n"
     ]
    }
   ],
   "source": [
    "display_table(ios_final, -5)"
   ]
  },
  {
   "cell_type": "markdown",
   "metadata": {},
   "source": [
    "The prime_genre column of the App Store dataset as reflected above indicates that Games is the most popular genre occupying 58.16% of the market, followed by Entertainment 7.88% and Photo & Video 4.96% respectively. Meanwhile Navigation at 0.18%, Medical at 0.18% and Catalogs at 0.12% are the least popular within the market."
   ]
  },
  {
   "cell_type": "code",
   "execution_count": 22,
   "metadata": {
    "scrolled": true
   },
   "outputs": [
    {
     "name": "stdout",
     "output_type": "stream",
     "text": [
      "FAMILY : 18.907942238267147\n",
      "GAME : 9.724729241877256\n",
      "TOOLS : 8.461191335740072\n",
      "BUSINESS : 4.591606498194946\n",
      "LIFESTYLE : 3.9034296028880866\n",
      "PRODUCTIVITY : 3.892148014440433\n",
      "FINANCE : 3.7003610108303246\n",
      "MEDICAL : 3.531137184115524\n",
      "SPORTS : 3.395758122743682\n",
      "PERSONALIZATION : 3.3167870036101084\n",
      "COMMUNICATION : 3.2378158844765346\n",
      "HEALTH_AND_FITNESS : 3.0798736462093865\n",
      "PHOTOGRAPHY : 2.944494584837545\n",
      "NEWS_AND_MAGAZINES : 2.7978339350180503\n",
      "SOCIAL : 2.6624548736462095\n",
      "TRAVEL_AND_LOCAL : 2.33528880866426\n",
      "SHOPPING : 2.2450361010830324\n",
      "BOOKS_AND_REFERENCE : 2.1435018050541514\n",
      "DATING : 1.861462093862816\n",
      "VIDEO_PLAYERS : 1.7937725631768955\n",
      "MAPS_AND_NAVIGATION : 1.3989169675090252\n",
      "FOOD_AND_DRINK : 1.2409747292418771\n",
      "EDUCATION : 1.1620036101083033\n",
      "ENTERTAINMENT : 0.9589350180505415\n",
      "LIBRARIES_AND_DEMO : 0.9363718411552346\n",
      "AUTO_AND_VEHICLES : 0.9250902527075812\n",
      "HOUSE_AND_HOME : 0.8235559566787004\n",
      "WEATHER : 0.8009927797833934\n",
      "EVENTS : 0.7107400722021661\n",
      "PARENTING : 0.6543321299638989\n",
      "ART_AND_DESIGN : 0.6430505415162455\n",
      "COMICS : 0.6204873646209386\n",
      "BEAUTY : 0.5979241877256317\n"
     ]
    }
   ],
   "source": [
    "display_table(android_final, 1)"
   ]
  },
  {
   "cell_type": "markdown",
   "metadata": {},
   "source": [
    "The Genre column of the Google Play Store dataset as reflected above indicates that Family is the most popular genre is the most popular genre occupying 18.9% of the market, followed by Game at 9.72% and Tools at 8.46%. On the other end, Art_and_Design occupies 0.64%, Comics 0.62% and Beauty 0.59% of the market."
   ]
  },
  {
   "cell_type": "code",
   "execution_count": 23,
   "metadata": {},
   "outputs": [
    {
     "name": "stdout",
     "output_type": "stream",
     "text": [
      "Tools : 8.449909747292418\n",
      "Entertainment : 6.069494584837545\n",
      "Education : 5.347472924187725\n",
      "Business : 4.591606498194946\n",
      "Productivity : 3.892148014440433\n",
      "Lifestyle : 3.892148014440433\n",
      "Finance : 3.7003610108303246\n",
      "Medical : 3.531137184115524\n",
      "Sports : 3.463447653429603\n",
      "Personalization : 3.3167870036101084\n",
      "Communication : 3.2378158844765346\n",
      "Action : 3.1024368231046933\n",
      "Health & Fitness : 3.0798736462093865\n",
      "Photography : 2.944494584837545\n",
      "News & Magazines : 2.7978339350180503\n",
      "Social : 2.6624548736462095\n",
      "Travel & Local : 2.3240072202166067\n",
      "Shopping : 2.2450361010830324\n",
      "Books & Reference : 2.1435018050541514\n",
      "Simulation : 2.0419675090252705\n",
      "Dating : 1.861462093862816\n",
      "Arcade : 1.8501805054151623\n",
      "Video Players & Editors : 1.7712093862815883\n",
      "Casual : 1.7599277978339352\n",
      "Maps & Navigation : 1.3989169675090252\n",
      "Food & Drink : 1.2409747292418771\n",
      "Puzzle : 1.128158844765343\n",
      "Racing : 0.9927797833935018\n",
      "Role Playing : 0.9363718411552346\n",
      "Libraries & Demo : 0.9363718411552346\n",
      "Auto & Vehicles : 0.9250902527075812\n",
      "Strategy : 0.9138086642599278\n",
      "House & Home : 0.8235559566787004\n",
      "Weather : 0.8009927797833934\n",
      "Events : 0.7107400722021661\n",
      "Adventure : 0.6768953068592057\n",
      "Comics : 0.6092057761732852\n",
      "Beauty : 0.5979241877256317\n",
      "Art & Design : 0.5979241877256317\n",
      "Parenting : 0.4963898916967509\n",
      "Card : 0.45126353790613716\n",
      "Casino : 0.42870036101083037\n",
      "Trivia : 0.41741877256317694\n",
      "Educational;Education : 0.39485559566787\n",
      "Board : 0.3835740072202166\n",
      "Educational : 0.3722924187725632\n",
      "Education;Education : 0.33844765342960287\n",
      "Word : 0.2594765342960289\n",
      "Casual;Pretend Play : 0.236913357400722\n",
      "Music : 0.2030685920577617\n",
      "Racing;Action & Adventure : 0.16922382671480143\n",
      "Puzzle;Brain Games : 0.16922382671480143\n",
      "Entertainment;Music & Video : 0.16922382671480143\n",
      "Casual;Brain Games : 0.13537906137184114\n",
      "Casual;Action & Adventure : 0.13537906137184114\n",
      "Arcade;Action & Adventure : 0.12409747292418773\n",
      "Action;Action & Adventure : 0.10153429602888085\n",
      "Educational;Pretend Play : 0.09025270758122744\n",
      "Simulation;Action & Adventure : 0.078971119133574\n",
      "Parenting;Education : 0.078971119133574\n",
      "Entertainment;Brain Games : 0.078971119133574\n",
      "Board;Brain Games : 0.078971119133574\n",
      "Parenting;Music & Video : 0.06768953068592057\n",
      "Educational;Brain Games : 0.06768953068592057\n",
      "Casual;Creativity : 0.06768953068592057\n",
      "Art & Design;Creativity : 0.06768953068592057\n",
      "Education;Pretend Play : 0.056407942238267145\n",
      "Role Playing;Pretend Play : 0.04512635379061372\n",
      "Education;Creativity : 0.04512635379061372\n",
      "Role Playing;Action & Adventure : 0.033844765342960284\n",
      "Puzzle;Action & Adventure : 0.033844765342960284\n",
      "Entertainment;Creativity : 0.033844765342960284\n",
      "Entertainment;Action & Adventure : 0.033844765342960284\n",
      "Educational;Creativity : 0.033844765342960284\n",
      "Educational;Action & Adventure : 0.033844765342960284\n",
      "Education;Music & Video : 0.033844765342960284\n",
      "Education;Brain Games : 0.033844765342960284\n",
      "Education;Action & Adventure : 0.033844765342960284\n",
      "Adventure;Action & Adventure : 0.033844765342960284\n",
      "Video Players & Editors;Music & Video : 0.02256317689530686\n",
      "Sports;Action & Adventure : 0.02256317689530686\n",
      "Simulation;Pretend Play : 0.02256317689530686\n",
      "Puzzle;Creativity : 0.02256317689530686\n",
      "Music;Music & Video : 0.02256317689530686\n",
      "Entertainment;Pretend Play : 0.02256317689530686\n",
      "Casual;Education : 0.02256317689530686\n",
      "Board;Action & Adventure : 0.02256317689530686\n",
      "Video Players & Editors;Creativity : 0.01128158844765343\n",
      "Trivia;Education : 0.01128158844765343\n",
      "Travel & Local;Action & Adventure : 0.01128158844765343\n",
      "Tools;Education : 0.01128158844765343\n",
      "Strategy;Education : 0.01128158844765343\n",
      "Strategy;Creativity : 0.01128158844765343\n",
      "Strategy;Action & Adventure : 0.01128158844765343\n",
      "Simulation;Education : 0.01128158844765343\n",
      "Role Playing;Brain Games : 0.01128158844765343\n",
      "Racing;Pretend Play : 0.01128158844765343\n",
      "Puzzle;Education : 0.01128158844765343\n",
      "Parenting;Brain Games : 0.01128158844765343\n",
      "Music & Audio;Music & Video : 0.01128158844765343\n",
      "Lifestyle;Pretend Play : 0.01128158844765343\n",
      "Lifestyle;Education : 0.01128158844765343\n",
      "Health & Fitness;Education : 0.01128158844765343\n",
      "Health & Fitness;Action & Adventure : 0.01128158844765343\n",
      "Entertainment;Education : 0.01128158844765343\n",
      "Communication;Creativity : 0.01128158844765343\n",
      "Comics;Creativity : 0.01128158844765343\n",
      "Casual;Music & Video : 0.01128158844765343\n",
      "Card;Action & Adventure : 0.01128158844765343\n",
      "Books & Reference;Education : 0.01128158844765343\n",
      "Art & Design;Pretend Play : 0.01128158844765343\n",
      "Art & Design;Action & Adventure : 0.01128158844765343\n",
      "Arcade;Pretend Play : 0.01128158844765343\n",
      "Adventure;Education : 0.01128158844765343\n"
     ]
    }
   ],
   "source": [
    "display_table(android_final, -4)"
   ]
  },
  {
   "cell_type": "markdown",
   "metadata": {},
   "source": [
    "The Category column of the Google Play Store dataset as reflected above indicates that Tools is the most popular category occupying 8.44% of the market, followed by Entertainment 6.06% and Education 5.34% respectively. Meanwhile Art & Design;Action & Adventure at 0.011%, Arcade;Pretend Play 0.011% and Adventure;Education at 0.011% are the least popular within the market."
   ]
  },
  {
   "cell_type": "markdown",
   "metadata": {},
   "source": [
    "## Most Popular IOS Apps by Genre\n",
    "We were able to determine through the freq_table dictionary and display_table function what the popular genres within the prime_genre column of the App Store dataset were. Now we are looking to determine what genres are the most popular by users rather than number of apps within the market. To accomplish this we must calculate the average number of user ratings per genre in the App Store."
   ]
  },
  {
   "cell_type": "code",
   "execution_count": 48,
   "metadata": {
    "scrolled": true
   },
   "outputs": [
    {
     "name": "stdout",
     "output_type": "stream",
     "text": [
      "Social Networking : 71548.34905660378\n",
      "Photo & Video : 28441.54375\n",
      "Games : 22788.6696905016\n",
      "Music : 57326.530303030304\n",
      "Reference : 74942.11111111111\n",
      "Health & Fitness : 23298.015384615384\n",
      "Weather : 52279.892857142855\n",
      "Utilities : 18684.456790123455\n",
      "Travel : 28243.8\n",
      "Shopping : 26919.690476190477\n",
      "News : 21248.023255813954\n",
      "Navigation : 86090.33333333333\n",
      "Lifestyle : 16485.764705882353\n",
      "Entertainment : 14029.830708661417\n",
      "Food & Drink : 33333.92307692308\n",
      "Sports : 23008.898550724636\n",
      "Book : 39758.5\n",
      "Finance : 31467.944444444445\n",
      "Education : 7003.983050847458\n",
      "Productivity : 21028.410714285714\n",
      "Business : 7491.117647058823\n",
      "Catalogs : 4004.0\n",
      "Medical : 612.0\n"
     ]
    }
   ],
   "source": [
    "genres_ios = freq_table(ios_final, -5)\n",
    "\n",
    "for genre in genres_ios:\n",
    "    total = 0\n",
    "    len_genre = 0\n",
    "    for app in ios_final:\n",
    "        genre_app = app[-5]\n",
    "        if genre_app == genre:            \n",
    "            n_ratings = float(app[5])\n",
    "            total += n_ratings\n",
    "            len_genre += 1\n",
    "    avg_n_ratings = total / len_genre\n",
    "    print(genre, ':', avg_n_ratings)"
   ]
  },
  {
   "cell_type": "markdown",
   "metadata": {},
   "source": [
    "In an unexpected turnaround, Navigation which only had 0.18% of applications within the App Store market, is first in popularity with an average of 86,090 ratings as it is widely used among users."
   ]
  },
  {
   "cell_type": "code",
   "execution_count": 49,
   "metadata": {
    "scrolled": false
   },
   "outputs": [
    {
     "name": "stdout",
     "output_type": "stream",
     "text": [
      "Waze - GPS Navigation, Maps & Real-time Traffic : 345046\n",
      "Google Maps - Navigation & Transit : 154911\n",
      "Geocaching® : 12811\n",
      "CoPilot GPS – Car Navigation & Offline Maps : 3582\n",
      "ImmobilienScout24: Real Estate Search in Germany : 187\n",
      "Railway Route Search : 5\n"
     ]
    }
   ],
   "source": [
    "for app in ios_final:\n",
    "    if app[-5] == 'Navigation':\n",
    "        print(app[1], ':', app[5]) # print name and number of ratings"
   ]
  },
  {
   "cell_type": "markdown",
   "metadata": {},
   "source": [
    "As seen above, popularity within the Navigation genre could be deceptive as Waze - GPS Navigation, Maps & Real-time Traffic and Google Maps dominate the genre, leaving little room for developing competitive applications."
   ]
  },
  {
   "cell_type": "code",
   "execution_count": 93,
   "metadata": {
    "scrolled": true
   },
   "outputs": [
    {
     "name": "stdout",
     "output_type": "stream",
     "text": [
      "Bible : 985920\n",
      "Dictionary.com Dictionary & Thesaurus : 200047\n",
      "Dictionary.com Dictionary & Thesaurus for iPad : 54175\n",
      "Google Translate : 26786\n",
      "Muslim Pro: Ramadan 2017 Prayer Times, Azan, Quran : 18418\n",
      "New Furniture Mods - Pocket Wiki & Game Tools for Minecraft PC Edition : 17588\n",
      "Merriam-Webster Dictionary : 16849\n",
      "Night Sky : 12122\n",
      "City Maps for Minecraft PE - The Best Maps for Minecraft Pocket Edition (MCPE) : 8535\n",
      "LUCKY BLOCK MOD ™ for Minecraft PC Edition - The Best Pocket Wiki & Mods Installer Tools : 4693\n",
      "GUNS MODS for Minecraft PC Edition - Mods Tools : 1497\n",
      "Guides for Pokémon GO - Pokemon GO News and Cheats : 826\n",
      "WWDC : 762\n",
      "Horror Maps for Minecraft PE - Download The Scariest Maps for Minecraft Pocket Edition (MCPE) Free : 718\n",
      "VPN Express : 14\n",
      "Real Bike Traffic Rider Virtual Reality Glasses : 8\n",
      "教えて!goo : 0\n",
      "Jishokun-Japanese English Dictionary & Translator : 0\n"
     ]
    }
   ],
   "source": [
    "for app in ios_final:\n",
    "    if app[-5] == 'Reference':\n",
    "        print(app[1], ':', app[5])"
   ]
  },
  {
   "cell_type": "markdown",
   "metadata": {},
   "source": [
    "The Reference genre was indicative of a similar conclusion. Runner-up to Navigation, it too has a notable user base for Bible and Dictionary.com Dictionary & Thesaurus in comparison to other apps. The difference however, is that there is an increased selection and potential for growth through sub-genres or additional features. Perhaps developing a journal app would prove popular among users with an option to share with others. Document your thoughts and life journey as and maintain it as a reference for yourself and possibly others later in life."
   ]
  },
  {
   "cell_type": "code",
   "execution_count": 98,
   "metadata": {},
   "outputs": [
    {
     "name": "stdout",
     "output_type": "stream",
     "text": [
      "Twitter : 354058\n",
      "Fox News : 132703\n",
      "CNN: Breaking US & World News, Live Video : 112886\n",
      "Reddit Official App: All That's Trending and Viral : 67560\n",
      "USA TODAY : 61724\n",
      "ABC News - US & World News + Live Video : 48407\n",
      "NBC News : 32881\n",
      "HuffPost - News, Politics & Entertainment : 29107\n",
      "The Washington Post Classic : 18572\n",
      "WIRED Magazine : 12074\n",
      "CBS News - Watch Free Live Breaking News : 11691\n",
      "The Guardian : 8176\n",
      "AOL: News, Email, Weather & Video : 5233\n",
      "SmartNews - Trending News & Stories : 4645\n",
      "MSNBC : 3692\n",
      "LotteryHUB : 2417\n",
      "theSkimm : 1765\n",
      "Quartz • News in a whole new way : 1267\n",
      "Lotto Results - Mega Millions Powerball Lottery : 794\n",
      "TopBuzz: Best Viral Videos, GIFs, TV & News : 692\n",
      "Ticket Scanner for Powerball & MegaMillions Pool : 581\n",
      "FOCUS Online - Aktuelle Nachrichten : 373\n",
      "SPIEGEL ONLINE - Nachrichten : 299\n",
      "n-tv Nachrichten : 273\n",
      "CNN Politics : 254\n",
      "Tagesschau : 233\n",
      "Fresco — Be a part of the news : 219\n",
      "News Break - Local & World Breaking News & Radio : 173\n",
      "OPM Alert : 172\n",
      "franceinfo - l'actualité & les élections en direct : 162\n",
      "Sky News : 118\n",
      "BFMTV : l'info en continu : 115\n",
      "20 Minutes.fr - l'actualité en continu : 112\n",
      "FeedNews: AI curated social news for productivity : 73\n",
      "WSVN Hurricane Tracker : 40\n",
      "Election Center 2016 : 37\n",
      "Clown Spotter - Find Clowns Around You : 34\n",
      "US Presidential Election 2016 - Polls : 28\n",
      "State Council - Official Chinese government app : 25\n",
      "Smart Channel -New Style of News Reader- : 0\n",
      "KATWARN : 0\n",
      "GE's eddie : 0\n",
      "JCnews - Anime & Game Culture : 0\n"
     ]
    }
   ],
   "source": [
    "for app in ios_final:\n",
    "    if app[-5] == 'News':\n",
    "        print(app[1], ':', app[5])"
   ]
  },
  {
   "cell_type": "markdown",
   "metadata": {},
   "source": [
    "News held 1.33% of the overall app market within the App Store yet 21,248 average number or ratings. We were surprised to find the Twitter app within this catergory, and dominating it at that with 354,058 ratings. We were expecting to find this app within the Social Networking genre."
   ]
  },
  {
   "cell_type": "markdown",
   "metadata": {},
   "source": [
    "## Most Popular Android Apps by Genre\n",
    "The Google Play App Store fortunately has an \"Installs\" column to track their most downloaded apps.\n"
   ]
  },
  {
   "cell_type": "code",
   "execution_count": 81,
   "metadata": {
    "scrolled": true
   },
   "outputs": [
    {
     "name": "stdout",
     "output_type": "stream",
     "text": [
      "1,000,000+ : 15.726534296028879\n",
      "100,000+ : 11.552346570397113\n",
      "10,000,000+ : 10.548285198555957\n",
      "10,000+ : 10.198555956678701\n",
      "1,000+ : 8.393501805054152\n",
      "100+ : 6.915613718411552\n",
      "5,000,000+ : 6.825361010830325\n",
      "500,000+ : 5.561823104693141\n",
      "50,000+ : 4.7721119133574\n",
      "5,000+ : 4.512635379061372\n",
      "10+ : 3.5424187725631766\n",
      "500+ : 3.2490974729241873\n",
      "50,000,000+ : 2.3014440433213\n",
      "100,000,000+ : 2.1322202166064983\n",
      "50+ : 1.917870036101083\n",
      "5+ : 0.78971119133574\n",
      "1+ : 0.5076714801444043\n",
      "500,000,000+ : 0.2707581227436823\n",
      "1,000,000,000+ : 0.22563176895306858\n",
      "0+ : 0.04512635379061372\n",
      "0 : 0.01128158844765343\n"
     ]
    }
   ],
   "source": [
    "display_table(android_final, 5)"
   ]
  },
  {
   "cell_type": "markdown",
   "metadata": {},
   "source": [
    "As you can tell from this analysis, the data isn't quite too precise. We'll leave n_installs to help substitute additional characters with space. These characters would be commas and addition signs, so that we may covert our our n_istalls to float. Through this loop we will calculate the average number of installs for each genre."
   ]
  },
  {
   "cell_type": "code",
   "execution_count": 99,
   "metadata": {},
   "outputs": [
    {
     "name": "stdout",
     "output_type": "stream",
     "text": [
      "ART_AND_DESIGN : 1986335.0877192982\n",
      "AUTO_AND_VEHICLES : 647317.8170731707\n",
      "BEAUTY : 513151.88679245283\n",
      "BOOKS_AND_REFERENCE : 8767811.894736841\n",
      "BUSINESS : 1712290.1474201474\n",
      "COMICS : 817657.2727272727\n",
      "COMMUNICATION : 38456119.167247385\n",
      "DATING : 854028.8303030303\n",
      "EDUCATION : 1833495.145631068\n",
      "ENTERTAINMENT : 11640705.88235294\n",
      "EVENTS : 253542.22222222222\n",
      "FINANCE : 1387692.475609756\n",
      "FOOD_AND_DRINK : 1924897.7363636363\n",
      "HEALTH_AND_FITNESS : 4188821.9853479853\n",
      "HOUSE_AND_HOME : 1331540.5616438356\n",
      "LIBRARIES_AND_DEMO : 638503.734939759\n",
      "LIFESTYLE : 1437816.2687861272\n",
      "GAME : 15588015.603248259\n",
      "FAMILY : 3695641.8198090694\n",
      "MEDICAL : 120550.61980830671\n",
      "SOCIAL : 23253652.127118643\n",
      "SHOPPING : 7036877.311557789\n",
      "PHOTOGRAPHY : 17840110.40229885\n",
      "SPORTS : 3638640.1428571427\n",
      "TRAVEL_AND_LOCAL : 13984077.710144928\n",
      "TOOLS : 10801391.298666667\n",
      "PERSONALIZATION : 5201482.6122448975\n",
      "PRODUCTIVITY : 16787331.344927534\n",
      "PARENTING : 542603.6206896552\n",
      "WEATHER : 5074486.197183099\n",
      "VIDEO_PLAYERS : 24727872.452830188\n",
      "NEWS_AND_MAGAZINES : 9549178.467741935\n",
      "MAPS_AND_NAVIGATION : 4056941.7741935486\n"
     ]
    }
   ],
   "source": [
    "categories_android = freq_table(android_final, 1)\n",
    "\n",
    "for category in categories_android:\n",
    "    total = 0\n",
    "    len_category = 0\n",
    "    for app in android_final:\n",
    "        category_app = app[1]\n",
    "        if category_app == category:            \n",
    "            n_installs = app[5]\n",
    "            n_installs = n_installs.replace(',', '')\n",
    "            n_installs = n_installs.replace('+', '')\n",
    "            total += float(n_installs)\n",
    "            len_category += 1\n",
    "    avg_n_installs = total / len_category\n",
    "    print(category, ':', avg_n_installs)"
   ]
  },
  {
   "cell_type": "markdown",
   "metadata": {},
   "source": [
    "Here we see that the most popular installs are Communication followed by Video Player. These categories tend to be broad and sometimes have applications that may not seem as though they fall within these categories. For example we have Whatsapp, Android messengers and Skype under Communication. Meanwhile, Video Players has Google Play and Youtube. The same happens within other genres such as Productivity where Tools is quite popular but with a vast and overwhelmingly competitive market."
   ]
  },
  {
   "cell_type": "code",
   "execution_count": 54,
   "metadata": {
    "scrolled": true
   },
   "outputs": [
    {
     "name": "stdout",
     "output_type": "stream",
     "text": [
      "WhatsApp Messenger : 1,000,000,000+\n",
      "imo beta free calls and text : 100,000,000+\n",
      "Android Messages : 100,000,000+\n",
      "Google Duo - High Quality Video Calls : 500,000,000+\n",
      "Messenger – Text and Video Chat for Free : 1,000,000,000+\n",
      "imo free video calls and chat : 500,000,000+\n",
      "Skype - free IM & video calls : 1,000,000,000+\n",
      "Who : 100,000,000+\n",
      "GO SMS Pro - Messenger, Free Themes, Emoji : 100,000,000+\n",
      "LINE: Free Calls & Messages : 500,000,000+\n",
      "Google Chrome: Fast & Secure : 1,000,000,000+\n",
      "Firefox Browser fast & private : 100,000,000+\n",
      "UC Browser - Fast Download Private & Secure : 500,000,000+\n",
      "Gmail : 1,000,000,000+\n",
      "Hangouts : 1,000,000,000+\n",
      "Messenger Lite: Free Calls & Messages : 100,000,000+\n",
      "Kik : 100,000,000+\n",
      "KakaoTalk: Free Calls & Text : 100,000,000+\n",
      "Opera Mini - fast web browser : 100,000,000+\n",
      "Opera Browser: Fast and Secure : 100,000,000+\n",
      "Telegram : 100,000,000+\n",
      "Truecaller: Caller ID, SMS spam blocking & Dialer : 100,000,000+\n",
      "UC Browser Mini -Tiny Fast Private & Secure : 100,000,000+\n",
      "Viber Messenger : 500,000,000+\n",
      "WeChat : 100,000,000+\n",
      "Yahoo Mail – Stay Organized : 100,000,000+\n",
      "BBM - Free Calls & Messages : 100,000,000+\n"
     ]
    }
   ],
   "source": [
    "for app in android_final:\n",
    "    if app[1] == 'COMMUNICATION' and (app[5] == '1,000,000,000+'\n",
    "                                      or app[5] == '500,000,000+'\n",
    "                                      or app[5] == '100,000,000+'):\n",
    "        print(app[0], ':', app[5])"
   ]
  },
  {
   "cell_type": "code",
   "execution_count": 55,
   "metadata": {},
   "outputs": [
    {
     "data": {
      "text/plain": [
       "3603485.3884615386"
      ]
     },
     "execution_count": 55,
     "metadata": {},
     "output_type": "execute_result"
    }
   ],
   "source": [
    "under_100_m = []\n",
    "\n",
    "for app in android_final:\n",
    "    n_installs = app[5]\n",
    "    n_installs = n_installs.replace(',', '')\n",
    "    n_installs = n_installs.replace('+', '')\n",
    "    if (app[1] == 'COMMUNICATION') and (float(n_installs) < 100000000):\n",
    "        under_100_m.append(float(n_installs))\n",
    "        \n",
    "sum(under_100_m) / len(under_100_m)"
   ]
  },
  {
   "cell_type": "markdown",
   "metadata": {},
   "source": [
    "A genre that offers popularity with a degree of competition is the \"News and Magazine\" genre. This genre is not currently dominated by a few applications, providing us potential for growth. This genre matches our findings in the Google Play Store and is ideally what we are seeking."
   ]
  },
  {
   "cell_type": "code",
   "execution_count": 72,
   "metadata": {
    "scrolled": false
   },
   "outputs": [
    {
     "name": "stdout",
     "output_type": "stream",
     "text": [
      "Fox News – Breaking News, Live Video & News Alerts : 10,000,000+\n",
      "NEW - Read Newspaper, News 24h : 10,000,000+\n",
      "BaBe + - Indonesian News : 1,000,000+\n",
      "daily News : 1,000,000+\n",
      "BBC News : 10,000,000+\n",
      "Free TV Shows App:News, TV Series, Episode, Movies : 1,000,000+\n",
      "News24 : 1,000,000+\n",
      "Le Monde, the continuous news : 5,000,000+\n",
      "Wireless news : 1,000,000+\n",
      "CNN Breaking US & World News : 10,000,000+\n",
      "Gnoche entertainment news · sports news is also free : 5,000,000+\n",
      "BaBe - Read News : 10,000,000+\n",
      "Nigeria News NAIJ.com : 1,000,000+\n",
      "detikcom - Latest & Most Complete News : 10,000,000+\n",
      "Dailyhunt (Newshunt) - Latest News, Viral Videos : 50,000,000+\n",
      "BaBe Lite - Read Quota Saving News : 1,000,000+\n",
      "ARY NEWS URDU : 500,000+\n",
      "Bengali Newspaper - The first L. : 1,000,000+\n",
      "Read- Latest News, Information, Gossip and Politics : 10,000,000+\n",
      "Reddit: Social News, Trending Memes & Funny Videos : 10,000,000+\n",
      "BBC Persian | BBC Farsi News : 100,000+\n",
      "Opera News - Trending news and videos : 10,000,000+\n",
      "Topbuzz: Breaking News, Videos & Funny GIFs : 10,000,000+\n",
      "Twitter : 500,000,000+\n",
      "Pulse Nabd - World News, Urgent : 10,000,000+\n",
      "Asahi Shimbun Digital : 500,000+\n",
      "Breaking News, Local news, Attacks and Alerts Free : 500,000+\n",
      "WE : 1,000,000+\n",
      "Sky News : 1,000,000+\n",
      "Microsoft News : 1,000,000+\n",
      "Onet - news, weather, sport : 1,000,000+\n",
      "Vietnam Today - Read online newspapers, the hottest news 24h : 5,000,000+\n",
      "Apple Daily Apple News : 5,000,000+\n",
      "The Report, Fox, Breitbart - Conservative News : 50,000+\n",
      "Tencent News : 1,000,000+\n",
      "ARY NEWS : 1,000,000+\n",
      "Kurio - Read the Latest News : 1,000,000+\n",
      "Daily Mail Online : 5,000,000+\n",
      "Loop - Caribbean Local News : 1,000,000+\n",
      "AD - News, Sports, Region & Entertainment : 1,000,000+\n",
      "Podcast Addict : 5,000,000+\n",
      "Podcast Republic - Podcast Player & Radio Player : 1,000,000+\n",
      "Spreaker Podcast Radio : 500,000+\n",
      "BeyondPod Podcast Manager : 1,000,000+\n",
      "Dezeen Magazine RSS Reader : 10,000+\n",
      "issuu - Read Magazines, Catalogs, Newspapers. : 1,000,000+\n",
      "BuzzFeed: News, Tasty, Quizzes : 5,000,000+\n",
      "Fast News : 1,000,000+\n",
      "LA Times: Your California News : 100,000+\n",
      "The Washington Post Classic : 1,000,000+\n",
      "Chicago Tribune : 100,000+\n",
      "USA TODAY : 5,000,000+\n",
      "World Newspapers : 1,000,000+\n",
      "The Wall Street Journal: Business & Market News : 1,000,000+\n",
      "Financial Times : 1,000,000+\n",
      "The Guardian : 5,000,000+\n",
      "NYTimes - Latest News : 10,000,000+\n",
      "Digg : 100,000+\n",
      "News360: Personalized News : 1,000,000+\n",
      "RT News (Russia Today) : 1,000,000+\n",
      "NPR News : 1,000,000+\n",
      "Reuters News : 1,000,000+\n",
      "Bloomberg: Market & Financial News : 10,000,000+\n",
      "Haystack TV: Local & World News - Free : 100,000+\n",
      "ABC News - US & World News : 1,000,000+\n",
      "NBC News : 5,000,000+\n",
      "Sync for reddit : 500,000+\n",
      "AP Mobile - Breaking News : 1,000,000+\n",
      "HuffPost - News : 1,000,000+\n",
      "News Republic : 10,000,000+\n",
      "Newsroom: News Worth Sharing : 10,000,000+\n",
      "SmartNews: Breaking News Headlines : 10,000,000+\n",
      "Updates for Samsung - Android Update Versions : 10,000,000+\n",
      "AC - Tips & News for Android™ : 1,000,000+\n",
      "CBS News : 1,000,000+\n",
      "NPR One : 1,000,000+\n",
      "JailBase - Arrests + Mugshots : 1,000,000+\n",
      "Pocket : 10,000,000+\n",
      "AOL - News, Mail & Video : 5,000,000+\n",
      "BaconReader for Reddit : 1,000,000+\n",
      "Flipboard: News For Our Time : 500,000,000+\n",
      "E! News : 1,000,000+\n",
      "M+ : 10,000+\n",
      "AD - Nieuws, Sport, Regio & Entertainment : 1,000,000+\n",
      "AF Link : 10,000+\n",
      "Ariana News AF : 5,000+\n",
      "Rоhi.af : 1,000+\n",
      "AI Today : Artificial Intelligence News & AI 101 : 100+\n",
      "AJ+ Beta : 1,000+\n",
      "Aj. Vallbona : 10+\n",
      "Aj Di Awaaz : 500+\n",
      "AL.com : 50,000+\n",
      "Al Jazeera English : 1,000,000+\n",
      "Al Mayadeen : 500,000+\n",
      "Coast To Coast AM Insider : 100,000+\n",
      "DWWW 774 Ultimate AM Radio : 10,000+\n",
      "AP App for Android™ : 10,000+\n",
      "AS - Diario online deportivo. Fútbol, motor y más : 50+\n",
      "Australia Newspapers - AU News Apps : 1,000+\n",
      "news.com.au : 100+\n",
      "Mali 7 - Actualités au Mali : 50,000+\n",
      "AW TeamUp : 500+\n",
      "AW Reader: news & apps [Dutch] : 100,000+\n",
      "Handbreit by a.w.niemeyer : 1,000+\n",
      "News.aw : 10+\n",
      "AW - Le News di AndroidWorld : 100,000+\n",
      "Cafe.ba : 10,000+\n",
      "058.ba : 100+\n",
      "Klix.ba : 100,000+\n",
      "BD Online News : 1,000+\n",
      "BD Internet Package Activator : 100+\n",
      "BG Sports News : 1,000+\n",
      "Dete.bg : 100+\n",
      "Top Novini BG : 100+\n",
      "Stolica.bg : 50+\n",
      "N+ News Bulgaria : 50+\n",
      "BI News : 1,000+\n",
      "BK Manager : 5,000+\n",
      "RTVBN : 50,000+\n",
      "bq magazine : 50+\n",
      "Vidroid.com.br : 5,000+\n",
      "Revista BS : 100+\n",
      "Kiosko BS : 1,000+\n",
      "BT App : 1,000+\n",
      "B.T. : 100,000+\n",
      "B.Z. Live-Ticker : 10,000+\n",
      "BZ Berner Zeitung E-Paper : 1,000+\n",
      "BZ-Smart : 10,000+\n",
      "Berner Zeitung : 50,000+\n",
      "bz Basellandschaftliche News : 1,000+\n",
      "BZ Langenthaler Tagblatt E-Paper : 10+\n",
      "Badische Zeitung : 10,000+\n",
      "bz Baselland E-Paper : 5,000+\n",
      "BZ-Digital : 100+\n",
      "BZ Berner Oberländer : 1,000+\n",
      "bz Basel E-Paper : 5,000+\n",
      "bz Basel News : 1,000+\n",
      "PRIMATURE.CD : 100+\n",
      "INTERKINOIS.CD : 5+\n",
      "STADE.CD : 5+\n",
      "OBJECTIFINFOS.CD : 50+\n",
      "CE HPJM 69 : 50+\n",
      "CG Creative Sets: 2D/3D Artist : 10,000+\n",
      "CG Daily News : 10,000+\n",
      "CG Freelancer : 1,000+\n",
      "CG Vidhansabha Chunav 2018 : 100+\n",
      "Naidunia: MP News & CG News : 100,000+\n",
      "Bhuiyan Land Records Chhattisgarh (CG) : 5,000+\n",
      "20 minutes (CH) : 1,000,000+\n",
      "CH info : 5,000+\n",
      "20 Minuten (CH) : 1,000,000+\n",
      "swissinfo.ch : 50,000+\n",
      "Startupticker.ch News, Events : 100+\n",
      "CI On The Go : 100+\n",
      "Courier Journal : 10,000+\n",
      "Feeder.co : 5,000+\n",
      "CQ : 1,000+\n",
      "Roll Call News : 5,000+\n",
      "CT Prepares : 1,000+\n",
      "CW TV : 50,000+\n",
      "News 8 San Diego : 50,000+\n",
      "Cy-Ranch : 500+\n",
      "NOMISMA.com.cy by FMW : 100+\n",
      "Capitalnews.com.cy : 10+\n",
      "StudentLife.com.cy : 100+\n",
      "Novinky.cz : 100,000+\n",
      "DB Welt - Die Zeitung der DB : 10,000+\n",
      "FOX 5 DC : 100,000+\n",
      "McClatchy DC Bureau : 5,000+\n",
      "México City D.F News : 100+\n",
      "DG TV : 100+\n",
      "DH News : 10,000+\n",
      "DM Magazine : 10+\n",
      "DN : 10,000+\n",
      "DN eAvis : 10,000+\n",
      "DN Sync : 1,000+\n",
      "DN Reader : 100+\n",
      "e-DN - den digitala tidningen från Dagens Nyheter : 50,000+\n",
      "Dagens Nyheter : 100,000+\n",
      "DN.VR : 5,000+\n",
      "DN - Diário de Notícias : 100,000+\n",
      "DN Radio FM : 10+\n",
      "Sverige Tidningar : 50,000+\n",
      "Svenska Dagbladet : 100,000+\n",
      "Sweden Newspapers : 0+\n",
      "dt.se : 10,000+\n",
      "DW - Breaking World News : 1,000,000+\n",
      "DW Amharic by AudioNow Digital : 10,000+\n",
      "News: DW Español : 1,000+\n",
      "DW : 10,000+\n",
      "DW Arabic By dw-arab.com : 50,000+\n",
      "DW Espanol : 100+\n",
      "News :DW Bangali : 10+\n",
      "News: DW Hausa : 1,000+\n",
      "News: RFI Hausa : 1,000+\n",
      "Hausa Radio : 100,000+\n",
      "Swahili Radio : 10,000+\n",
      "dz NEWS Algerie : 100,000+\n",
      "JNews DZ - Algerian Newspapers : 10,000+\n",
      "dz press : 1,000+\n",
      "Ei Samay - Bengali News Paper : 1,000,000+\n",
      "Aaj Bangla: ei samay er khobor : 1,000+\n",
      "Kolkata News:Anandbazar Patrika,ei samay&AllRating : 100+\n",
      "Ei Somoy & Dainik Sangbad & Statesman (PDF) : 100+\n",
      "EJ.by : 500+\n",
      "EJ Insight : 1,000+\n",
      "El Nuevo Día : 500,000+\n",
      "EL NORTE : 100,000+\n",
      "El Nueve : 50,000+\n",
      "FRANCE 24 : 5,000,000+\n",
      "NewsDog - Latest News, Breaking News, Local News : 10,000,000+\n",
      "Economic Times : Market News : 5,000,000+\n",
      "ET Telecom from Economic Times : 10,000+\n",
      "Economic Times : Market News Go Edition : 5,000+\n",
      "Google News : 1,000,000,000+\n",
      "News by The Times of India Newspaper - Latest News : 10,000,000+\n",
      "Doorstep EU : 1,000+\n",
      "Lazionews.eu : 1,000+\n",
      "EU Life Explorer : 50+\n",
      "EU-Schwerbehinderung : 100+\n",
      "ew-Magazin : 100+\n",
      "News 5 Cleveland : 100,000+\n",
      "The List : 10,000+\n",
      "ABC15 Arizona : 100,000+\n",
      "NATIVE ENTERTAINMENT MAGAZINE - ISSUE # 1 : 10+\n",
      "KMTV 3 News Now : 10,000+\n",
      "TMJ4.com - WTMJ-TV Milwaukee : 50,000+\n",
      "WPTV 5 West Palm Beach : 100,000+\n",
      "WKBW 7 Eyewitness News : 50,000+\n",
      "Barcelona FC Noticias Live : 500+\n",
      "Noticias FC Barcelona : 100+\n",
      "Latest Barcelona News 24h : 10,000+\n",
      "FD e-paper : 10,000+\n",
      "Santa Fe New Mexican e-Edition : 1,000+\n",
      "Results for FL Lottery : 10,000+\n",
      "Florida Lottery Results : 100,000+\n",
      "News-Journal-Daytona Beach, FL : 5,000+\n",
      "Ocala Star Banner, FL : 5,000+\n",
      "Lotto Results - Mega Millions Powerball Lottery US : 1,000,000+\n",
      "WFLA News Channel 8 - Tampa FL : 10,000+\n",
      "The Ledger - Lakeland, Florida : 5,000+\n",
      "Florida Today : 10,000+\n",
      "WSVN - 7 News Miami : 100,000+\n",
      "Podcast App: Free & Offline Podcasts by Player FM : 1,000,000+\n",
      "Fresh News : 100,000+\n",
      "The FP Shield : 10+\n",
      "Miss FQ : 10+\n",
      "News Minecraft.fr : 100,000+\n"
     ]
    }
   ],
   "source": [
    "for app in android_final:\n",
    "    if app[1] == 'NEWS_AND_MAGAZINES':\n",
    "        print(app[0], ':', app[5])"
   ]
  },
  {
   "cell_type": "markdown",
   "metadata": {},
   "source": [
    "The News_And_Magazines genre includes apps like Fox News, Microsoft News, Apple Daily Apple News, Huff Post, AP Mobile, etc. It appears as though there continues to be a small number of massively popular apps skewing the overall average. "
   ]
  },
  {
   "cell_type": "code",
   "execution_count": 73,
   "metadata": {},
   "outputs": [
    {
     "name": "stdout",
     "output_type": "stream",
     "text": [
      "Twitter : 500,000,000+\n",
      "Flipboard: News For Our Time : 500,000,000+\n",
      "Google News : 1,000,000,000+\n"
     ]
    }
   ],
   "source": [
    "for app in android_final:\n",
    "    if app[1] == 'NEWS_AND_MAGAZINES' and (app[5] == '1,000,000,000+'\n",
    "                                            or app[5] == '500,000,000+'\n",
    "                                            or app[5] == '100,000,000+'):\n",
    "        print(app[0], ':', app[5])"
   ]
  },
  {
   "cell_type": "markdown",
   "metadata": {},
   "source": [
    "Only a few apps are exponentially popular so this market still has potential. Lets look at applications we can find in this category that are in the middle range of popularity."
   ]
  },
  {
   "cell_type": "code",
   "execution_count": 100,
   "metadata": {},
   "outputs": [
    {
     "name": "stdout",
     "output_type": "stream",
     "text": [
      "Fox News – Breaking News, Live Video & News Alerts : 10,000,000+\n",
      "NEW - Read Newspaper, News 24h : 10,000,000+\n",
      "BaBe + - Indonesian News : 1,000,000+\n",
      "daily News : 1,000,000+\n",
      "BBC News : 10,000,000+\n",
      "Free TV Shows App:News, TV Series, Episode, Movies : 1,000,000+\n",
      "News24 : 1,000,000+\n",
      "Le Monde, the continuous news : 5,000,000+\n",
      "Wireless news : 1,000,000+\n",
      "CNN Breaking US & World News : 10,000,000+\n",
      "Gnoche entertainment news · sports news is also free : 5,000,000+\n",
      "BaBe - Read News : 10,000,000+\n",
      "Nigeria News NAIJ.com : 1,000,000+\n",
      "detikcom - Latest & Most Complete News : 10,000,000+\n",
      "Dailyhunt (Newshunt) - Latest News, Viral Videos : 50,000,000+\n",
      "BaBe Lite - Read Quota Saving News : 1,000,000+\n",
      "Bengali Newspaper - The first L. : 1,000,000+\n",
      "Read- Latest News, Information, Gossip and Politics : 10,000,000+\n",
      "Reddit: Social News, Trending Memes & Funny Videos : 10,000,000+\n",
      "Opera News - Trending news and videos : 10,000,000+\n",
      "Topbuzz: Breaking News, Videos & Funny GIFs : 10,000,000+\n",
      "Pulse Nabd - World News, Urgent : 10,000,000+\n",
      "WE : 1,000,000+\n",
      "Sky News : 1,000,000+\n",
      "Microsoft News : 1,000,000+\n",
      "Onet - news, weather, sport : 1,000,000+\n",
      "Vietnam Today - Read online newspapers, the hottest news 24h : 5,000,000+\n",
      "Apple Daily Apple News : 5,000,000+\n",
      "Tencent News : 1,000,000+\n",
      "ARY NEWS : 1,000,000+\n",
      "Kurio - Read the Latest News : 1,000,000+\n",
      "Daily Mail Online : 5,000,000+\n",
      "Loop - Caribbean Local News : 1,000,000+\n",
      "AD - News, Sports, Region & Entertainment : 1,000,000+\n",
      "Podcast Addict : 5,000,000+\n",
      "Podcast Republic - Podcast Player & Radio Player : 1,000,000+\n",
      "BeyondPod Podcast Manager : 1,000,000+\n",
      "issuu - Read Magazines, Catalogs, Newspapers. : 1,000,000+\n",
      "BuzzFeed: News, Tasty, Quizzes : 5,000,000+\n",
      "Fast News : 1,000,000+\n",
      "The Washington Post Classic : 1,000,000+\n",
      "USA TODAY : 5,000,000+\n",
      "World Newspapers : 1,000,000+\n",
      "The Wall Street Journal: Business & Market News : 1,000,000+\n",
      "Financial Times : 1,000,000+\n",
      "The Guardian : 5,000,000+\n",
      "NYTimes - Latest News : 10,000,000+\n",
      "News360: Personalized News : 1,000,000+\n",
      "RT News (Russia Today) : 1,000,000+\n",
      "NPR News : 1,000,000+\n",
      "Reuters News : 1,000,000+\n",
      "Bloomberg: Market & Financial News : 10,000,000+\n",
      "ABC News - US & World News : 1,000,000+\n",
      "NBC News : 5,000,000+\n",
      "AP Mobile - Breaking News : 1,000,000+\n",
      "HuffPost - News : 1,000,000+\n",
      "News Republic : 10,000,000+\n",
      "Newsroom: News Worth Sharing : 10,000,000+\n",
      "SmartNews: Breaking News Headlines : 10,000,000+\n",
      "Updates for Samsung - Android Update Versions : 10,000,000+\n",
      "AC - Tips & News for Android™ : 1,000,000+\n",
      "CBS News : 1,000,000+\n",
      "NPR One : 1,000,000+\n",
      "JailBase - Arrests + Mugshots : 1,000,000+\n",
      "Pocket : 10,000,000+\n",
      "AOL - News, Mail & Video : 5,000,000+\n",
      "BaconReader for Reddit : 1,000,000+\n",
      "E! News : 1,000,000+\n",
      "AD - Nieuws, Sport, Regio & Entertainment : 1,000,000+\n",
      "Al Jazeera English : 1,000,000+\n",
      "20 minutes (CH) : 1,000,000+\n",
      "20 Minuten (CH) : 1,000,000+\n",
      "DW - Breaking World News : 1,000,000+\n",
      "Ei Samay - Bengali News Paper : 1,000,000+\n",
      "FRANCE 24 : 5,000,000+\n",
      "NewsDog - Latest News, Breaking News, Local News : 10,000,000+\n",
      "Economic Times : Market News : 5,000,000+\n",
      "News by The Times of India Newspaper - Latest News : 10,000,000+\n",
      "Lotto Results - Mega Millions Powerball Lottery US : 1,000,000+\n",
      "Podcast App: Free & Offline Podcasts by Player FM : 1,000,000+\n"
     ]
    }
   ],
   "source": [
    "for app in android_final:\n",
    "    if app[1] == 'NEWS_AND_MAGAZINES' and (app[5] == '1,000,000+'\n",
    "                                            or app[5] == '5,000,000+'\n",
    "                                            or app[5] == '10,000,000+'\n",
    "                                            or app[5] == '50,000,000+'):\n",
    "        print(app[0], ':', app[5])"
   ]
  },
  {
   "cell_type": "markdown",
   "metadata": {},
   "source": [
    "## Conclusion\n",
    "Overall in this project we succeeded in analyzing data from the Google Play Store and App Store with the goal of recommending an app that can be profitable across both markets\n",
    "\n",
    "We concluded that from compiling a single source from contributions from popular local and national news sources, for ex. The Boston Globe, into a single app could be beneficial and profitable. Users would be able to access all news within a single app. There would be an option within the app for users to share opinions and debate amongst each other on local and national issues. The app could also charge to upgrade for the opportunity to vote from within the app itself for any local issues at hand."
   ]
  }
 ],
 "metadata": {
  "kernelspec": {
   "display_name": "Python 3",
   "language": "python",
   "name": "python3"
  },
  "language_info": {
   "codemirror_mode": {
    "name": "ipython",
    "version": 3
   },
   "file_extension": ".py",
   "mimetype": "text/x-python",
   "name": "python",
   "nbconvert_exporter": "python",
   "pygments_lexer": "ipython3",
   "version": "3.7.4"
  }
 },
 "nbformat": 4,
 "nbformat_minor": 2
}
